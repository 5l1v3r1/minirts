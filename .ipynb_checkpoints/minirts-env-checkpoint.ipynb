{
 "cells": [
  {
   "cell_type": "markdown",
   "metadata": {},
   "source": [
    "# Minimalist RTS Environment (let's call it \"Towers\")\n",
    "Sam Greydanus"
   ]
  },
  {
   "cell_type": "code",
   "execution_count": 1,
   "metadata": {
    "collapsed": true
   },
   "outputs": [],
   "source": [
    "import numpy as np\n",
    "import matplotlib.pyplot as plt\n",
    "\n",
    "# from towers import Towers\n",
    "from rtsenv import RTSEnv"
   ]
  },
  {
   "cell_type": "markdown",
   "metadata": {},
   "source": [
    "This implementation generally follows the documentation of Zoe's version. Changes: tower locations, within quadrants, are randomized. Tower values (\"healths\" aka \"hit points\"), within quadrants, are randomized. Agent value is randomized. Final reward is computed as follows: `tower_value IF agent_value > tower_value ELSE -3`. Friend towers are treated the same as enemy towers in the reward computation, except their magnitudes are negative.\n",
    "\n",
    "Channel Overview\n",
    " * channel 1 - hit point channel **NON BINARY**\n",
    " * channel 2 - agent mask\n",
    " * channel 3 - small tower mask\n",
    " * channel 4 - large tower mask\n",
    " * channel 5 - friendly mask\n",
    " * channel 6 - enemy mask\n",
    " \n",
    "NOTE: My implementation follows the OpenAI environment API:\n",
    " * `state = env.reset()`\n",
    " * `state, reward, done, info = env.step(action)`"
   ]
  },
  {
   "cell_type": "code",
   "execution_count": 2,
   "metadata": {
    "collapsed": true
   },
   "outputs": [],
   "source": [
    "class Towers(RTSEnv):\n",
    "    def __init__(self, quadrant_size=5):\n",
    "        self.qsize = quadrant_size\n",
    "        self.labels = ['health', 'agent', 'small', 'large', 'friends', 'enemies']\n",
    "\n",
    "    def seed(self, seed=0):\n",
    "        np.random.seed(seed)\n",
    "        \n",
    "    def reset(self):\n",
    "        self.obs = self.get_observation()\n",
    "        return self.obs.copy()\n",
    "\n",
    "    def step(self, action, verbose=False):\n",
    "        qsize = self.qsize ; obs = self.obs\n",
    "        health, agent, small, large, friends, enemies = obs[0], obs[1], obs[2], obs[3], obs[4], obs[5]\n",
    "        agent_health = (health*agent).sum()\n",
    "        xi = 0 if action in [0,3] else qsize\n",
    "        yi = 0 if action in [0,1] else qsize\n",
    "        tower_health = ((1-agent[xi:xi+qsize,yi:yi+qsize])*health[xi:xi+qsize,yi:yi+qsize]).sum()\n",
    "        if verbose: print('tower health', tower_health, '\\tagent health', agent_health)\n",
    "        reward = tower_health if tower_health < agent_health else -3.\n",
    "        state = None ; done = True ; info = {}\n",
    "        return state, reward, done, info\n",
    "    \n",
    "    def get_observation(self):\n",
    "        channels = [self.get_health_mask(self.qsize)]\n",
    "        channels += [self.get_agent_mask(self.qsize)]\n",
    "        channels += self.get_tower_masks(self.qsize, channels[0])\n",
    "        channels += self.get_team_masks(self.qsize, channels[0])\n",
    "        channels[0] += np.abs(channels[1]*np.random.randn())     # add the agent to the health channel\n",
    "        channels[0] += (0.5-1)*(channels[2]*channels[0]) # small towers get a health in range (0,0.5)\n",
    "        channels[0] += (1.5-1)*(channels[3]*channels[0]) # large towers get a health in range (0,1.5)\n",
    "        return np.stack(channels)\n",
    "    \n",
    "    @staticmethod\n",
    "    def get_health_mask(qsize):\n",
    "        channel = np.zeros((qsize*2, qsize*2))\n",
    "        for i in range(2):\n",
    "            for j in range(2):\n",
    "                ix = (np.random.randint(qsize*i, qsize*(i+1)), np.random.randint(qsize*j, qsize*(j+1)))\n",
    "                channel[ix] = np.random.randn()\n",
    "        return channel\n",
    "    \n",
    "    @staticmethod\n",
    "    def get_agent_mask(qsize): # agent will always be in the middle. model should learn to ignore\n",
    "        channel = np.zeros((qsize*2, qsize*2)) ; channel[qsize,qsize] = 1\n",
    "        return channel\n",
    "    \n",
    "    @staticmethod\n",
    "    def get_tower_masks(qsize, health_channel):\n",
    "        tower_exists = health_channel != 0\n",
    "        small = np.random.rand(qsize*2, qsize*2) > 0.5\n",
    "        large = 1-small # this is a redundant layer...but whatever\n",
    "        return [small*tower_exists, large*tower_exists]\n",
    "    \n",
    "    @staticmethod\n",
    "    def get_team_masks(qsize, health_channel):\n",
    "        tower_exists = health_channel != 0\n",
    "        friends = health_channel < 0\n",
    "        enemies = health_channel > 0 # this is a redundant layer...but whatever\n",
    "        return [friends, enemies] #[team1*tower_exists, team2*tower_exists]"
   ]
  },
  {
   "cell_type": "markdown",
   "metadata": {},
   "source": [
    "## Visualize the channels"
   ]
  },
  {
   "cell_type": "code",
   "execution_count": 3,
   "metadata": {},
   "outputs": [
    {
     "data": {
      "image/png": "[encoded data removed]",
      "text/plain": [
       "<matplotlib.figure.Figure at 0x10f420a58>"
      ]
     },
     "metadata": {},
     "output_type": "display_data"
    }
   ],
   "source": [
    "env = Towers()\n",
    "obs = env.reset()\n",
    "\n",
    "side=3\n",
    "f = plt.figure(figsize=[6*side,side])\n",
    "for i in range(6):\n",
    "    plt.subplot(1,6,1+i)\n",
    "    plt.title(env.labels[i])\n",
    "    plt.imshow(obs[i], cmap='gray')\n",
    "plt.show()"
   ]
  },
  {
   "cell_type": "markdown",
   "metadata": {},
   "source": [
    "## Explore the reward"
   ]
  },
  {
   "cell_type": "code",
   "execution_count": 4,
   "metadata": {},
   "outputs": [
    {
     "name": "stdout",
     "output_type": "stream",
     "text": [
      "tower health -0.5158757430926123 \tagent health 0.1781860983311189\n",
      "reward -0.5158757430926123\n",
      "\n",
      "tower health -1.1613807591566412 \tagent health 0.1781860983311189\n",
      "reward -1.1613807591566412\n",
      "\n",
      "tower health -1.2196567171611339 \tagent health 0.1781860983311189\n",
      "reward -1.2196567171611339\n",
      "\n",
      "tower health -1.3453844702765596 \tagent health 0.1781860983311189\n",
      "reward -1.3453844702765596\n",
      "\n"
     ]
    }
   ],
   "source": [
    "for a in range(4):\n",
    "    _, r,_,_ = env.step(a, verbose=True)\n",
    "    print('reward', r, end='\\n\\n')"
   ]
  },
  {
   "cell_type": "markdown",
   "metadata": {},
   "source": [
    "## Time it!\n",
    "\n",
    "Comparing it to a Torch operation of roughly the same complexity as a forward pass of a NN. It appears simulation time is not an issue here."
   ]
  },
  {
   "cell_type": "code",
   "execution_count": 5,
   "metadata": {},
   "outputs": [
    {
     "name": "stdout",
     "output_type": "stream",
     "text": [
      "mock forward pass took ~0.061s\n",
      "environment part took ~0.001s\n"
     ]
    }
   ],
   "source": [
    "import torch, time\n",
    "\n",
    "# time it: approximate complexity of a NN forward pass\n",
    "start = time.time()\n",
    "matrices = [torch.randn(128,28,28) for i in range(10)]\n",
    "v = None\n",
    "for i, m in enumerate(matrices):\n",
    "    v = m if i==0 else v.mul(m)\n",
    "print(\"mock forward pass took ~{:.3f}s\".format(time.time()-start))\n",
    "\n",
    "# time it: get an observation then get a reward\n",
    "start = time.time()\n",
    "obs = env.reset()\n",
    "_, r,_,_ = env.step(1)\n",
    "print(\"environment part took ~{:.3f}s\".format(time.time()-start))"
   ]
  },
  {
   "cell_type": "code",
   "execution_count": null,
   "metadata": {
    "collapsed": true
   },
   "outputs": [],
   "source": []
  }
 ],
 "metadata": {
  "kernelspec": {
   "display_name": "Python 3",
   "language": "python",
   "name": "python3"
  },
  "language_info": {
   "codemirror_mode": {
    "name": "ipython",
    "version": 3
   },
   "file_extension": ".py",
   "mimetype": "text/x-python",
   "name": "python",
   "nbconvert_exporter": "python",
   "pygments_lexer": "ipython3",
   "version": "3.6.1"
  }
 },
 "nbformat": 4,
 "nbformat_minor": 2
}
