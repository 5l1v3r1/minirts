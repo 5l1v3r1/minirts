{
 "cells": [
  {
   "cell_type": "markdown",
   "metadata": {},
   "source": [
    "# Minimalist Analysis of Tower RTS Agent using Saliency\n",
    "Sam Greydanus\n",
    "\n",
    "See the `minirts-env` and `minirts-agent` notebooks in this directory for details on the RTS environment and agent."
   ]
  },
  {
   "cell_type": "code",
   "execution_count": 1,
   "metadata": {
    "collapsed": true
   },
   "outputs": [],
   "source": [
    "import numpy as np\n",
    "import matplotlib.pyplot as plt\n",
    "\n",
    "import torch, time, os, glob\n",
    "import torch.nn as nn\n",
    "from torch.autograd import Variable\n",
    "import torch.nn.functional as F\n",
    "\n",
    "from scipy.ndimage.filters import gaussian_filter\n",
    "from scipy.misc import imresize\n",
    "\n",
    "from towers import Towers\n",
    "from rtsenv import RTSEnv\n",
    "from nnpolicy import NNPolicy\n",
    "\n",
    "import warnings\n",
    "warnings.filterwarnings('ignore')"
   ]
  },
  {
   "cell_type": "markdown",
   "metadata": {},
   "source": [
    "## Visualize the environment"
   ]
  },
  {
   "cell_type": "code",
   "execution_count": 2,
   "metadata": {},
   "outputs": [
    {
     "data": {
      "image/png": "[encoded data removed]",
      "text/plain": [
       "<matplotlib.figure.Figure at 0x11b6588d0>"
      ]
     },
     "metadata": {},
     "output_type": "display_data"
    },
    {
     "name": "stdout",
     "output_type": "stream",
     "text": [
      "observation dimensions are (6, 10, 10)\n"
     ]
    }
   ],
   "source": [
    "env = Towers()\n",
    "obs = env.reset()\n",
    "\n",
    "side=3\n",
    "f = plt.figure(figsize=[6*side,side])\n",
    "for i in range(6):\n",
    "    plt.subplot(1,6,1+i)\n",
    "    plt.title(env.labels[i])\n",
    "    plt.imshow(obs[i], cmap='gray')\n",
    "plt.show()\n",
    "print('observation dimensions are {}'.format(obs.shape))"
   ]
  },
  {
   "cell_type": "markdown",
   "metadata": {},
   "source": [
    "## Load a pretrained model"
   ]
  },
  {
   "cell_type": "code",
   "execution_count": 3,
   "metadata": {},
   "outputs": [
    {
     "name": "stdout",
     "output_type": "stream",
     "text": [
      "\tloaded model: ./saved/model_step_2724_reward_-0.30_.tar\n",
      "this saved model had a mean reward of -0.30\n"
     ]
    }
   ],
   "source": [
    "class Args():\n",
    "    pass\n",
    "args = Args()\n",
    "args.num_actions = 4\n",
    "args.save_dir = './saved/'\n",
    "\n",
    "state_to_torch = lambda state: Variable(torch.Tensor(state)).view(1,*state.shape) # add a batch dimension\n",
    "\n",
    "model = NNPolicy(num_actions=args.num_actions)\n",
    "ckpt_reward = model.try_load(args.save_dir)\n",
    "print('this saved model had a mean reward of {:.2f}'.format(ckpt_reward))"
   ]
  },
  {
   "cell_type": "markdown",
   "metadata": {},
   "source": [
    "## Run the agent through the environment\n",
    "\n",
    "**Reward landscape.** Also, let's review the reward landscape. When the agent chooses a tower to attack, its reward is computed as follows:\n",
    " * `if tower_health < agent_health`\n",
    "     * `reward = tower_health`\n",
    " * `else`\n",
    "     * `reward = -3 # this is a relatively large negative reward`\n",
    "\n",
    "Based on this reward landscape, the expected value of an attack, which is a good proxy for the agent's preference to attack a tower might look like this:\n",
    "![attack preference](static/attack-preference.png)\n"
   ]
  },
  {
   "cell_type": "code",
   "execution_count": 4,
   "metadata": {},
   "outputs": [
    {
     "name": "stdout",
     "output_type": "stream",
     "text": [
      "reward mean: -0.2587, reward std: 0.7011\n"
     ]
    }
   ],
   "source": [
    "env = Towers()\n",
    "N = 5000\n",
    "rewards = np.zeros((N))\n",
    "\n",
    "for i in range(N):\n",
    "    obs = env.reset()\n",
    "    state = state_to_torch(obs)\n",
    "    value, probs = model(state)\n",
    "    m = torch.distributions.Categorical(probs)\n",
    "    action =  m.probs.max(1)[1].data.view(-1)[0] # choose the action that has MAX probability\n",
    "    rewards[i] = env.step(action)[1]\n",
    "    \n",
    "print('reward mean: {:.4f}, reward std: {:.4f}'.format(rewards.mean(), rewards.std()))"
   ]
  },
  {
   "cell_type": "markdown",
   "metadata": {},
   "source": [
    "## Let's talk about saliency\n",
    "\n",
    "For starters, we'll use the same perturbation that we used in [Visualizing and Understaning Atari Agents](https://arxiv.org/abs/1711.00138)\n",
    "\n",
    " * $\\Phi(I_t,i,j)$ is the perturbation function\n",
    "     * $I_t$ is the image observation at time $t$\n",
    "     * $i$ and $j$ are image coordinates, around which the perturbation is centered\n",
    " * $M(i,j)$ is a mask. It tells us what parts of the image will be perturbed, and how much\n",
    " * $A$ is the data we will be replacing $I_t$ with to maximize the information lost and minimize the information added\n",
    "\n",
    "$$\n",
    "\\Phi(I_t,i,j) = I_t \\odot (1-M(i,j)) + A(I_t, \\sigma_A) \\odot M(i,j)\n",
    "$$\n",
    "\n",
    "In Atari, it looks something like this:\n",
    "\n",
    "![Atari perturbation](static/blur.png)\n",
    "\n",
    "The only difference is that we'll do it 6 times for each input, because each input has six layers\n",
    "\n",
    "### A note on the code shown below\n",
    "\n",
    "It works but it makes me sad. There are better ways to do this. Someday I will find them. Not today :)"
   ]
  },
  {
   "cell_type": "code",
   "execution_count": 5,
   "metadata": {
    "collapsed": true
   },
   "outputs": [],
   "source": [
    "# this is the interpolation function\n",
    "occlude = lambda I, mask: I*(1-mask) + (gaussian_filter(I, sigma=3))*mask # choose an area to blur\n",
    "\n",
    "# this is the\n",
    "def get_mask(center, size, r):\n",
    "    y,x = np.ogrid[-center[0]:size[0]-center[0], -center[1]:size[1]-center[1]]\n",
    "    keep = x*x + y*y <= 1\n",
    "    mask = np.zeros(size) ; mask[keep] = 1 # select a circle of pixels\n",
    "    mask = gaussian_filter(mask, sigma=r) # blur the circle of pixels. this is a 2D Gaussian for r=r^2=1\n",
    "    return mask/mask.max()\n",
    "\n",
    "def run_through_model(model, state, layer, interp_func=None, mask=None, mode='actor'):\n",
    "    if mask is not None:\n",
    "        state[layer,:,:] = interp_func(state[layer,:,:], mask)\n",
    "    return model(state_to_torch(state))[0] if mode == 'critic' else model(state_to_torch(state))[1]"
   ]
  },
  {
   "cell_type": "code",
   "execution_count": 6,
   "metadata": {
    "collapsed": true
   },
   "outputs": [],
   "source": [
    "def score_frame(model, state, r, d, interp_func, mode='actor', normalize=False):\n",
    "    # r: radius of blur\n",
    "    # d: density of scores (if d==1, then get a score for every pixel...\n",
    "    #    if d==2 then every other pixel, which is 25% of total pixels for a 2D image)\n",
    "    assert mode in ['actor', 'critic'], 'mode must be either \"actor\" or \"critic\"'\n",
    "    w = 10 # these RTS frames are 10x10\n",
    "    L = run_through_model(model, state, interp_func, mask=None, mode=mode)\n",
    "    scores = np.zeros((int(w/d)+1,int(w/d)+1,6)) # saliency scores S(t,i,j)\n",
    "    for i in range(0,w,d):\n",
    "        for j in range(0,w,d):\n",
    "            for k in range(6):\n",
    "                mask = get_mask(center=[i,j], size=[w,w], r=r)\n",
    "                l = run_through_model(model, state.copy(), k, interp_func, mask=mask, mode=mode)\n",
    "                scores[int(i/d),int(j/d),k] = (L-l).pow(2).sum().mul_(.5).data[0]\n",
    "    resized_scores = np.zeros((w,w,6))\n",
    "    for k in range(6):\n",
    "        resized_scores[:,:,k] = imresize(scores[:,:,k], size=[w,w], interp='bilinear').astype(np.float32)\n",
    "    if normalize:\n",
    "        pmax = resized_scores.max()\n",
    "        pmax = pmax * resized_scores / resized_scores.max()\n",
    "    return resized_scores"
   ]
  },
  {
   "cell_type": "markdown",
   "metadata": {},
   "source": [
    "## Select a state to investigate in detail\n",
    "\n",
    "Let's recall the general setup for this environment:\n",
    "\n",
    "![Tower RTS conventions](static/tower-rts-conventions.png)\n",
    "\n",
    "Each of the four towers gets assigned a random location within their quadrant."
   ]
  },
  {
   "cell_type": "code",
   "execution_count": 7,
   "metadata": {},
   "outputs": [
    {
     "name": "stdout",
     "output_type": "stream",
     "text": [
      "ENVIRONMENT STATS\n",
      "agent: health 0.54\n",
      "tower 1: health 1.12, type: small, enemy\n",
      "tower 2: health 1.47, type: large, enemy\n",
      "tower 3: health -0.15, type: small, friend (negative health because it is a friend)\n",
      "tower 4: health -0.07, type: small, friend (negative health because it is a friend)\n",
      "\treward for choosing  tower 2 -3.0\n",
      "\treward for choosing  tower 3 -0.14569698800571676\n",
      "\treward for choosing  tower 4 -0.06654514229483106\n",
      "\treward for choosing  tower 1 -3.0\n",
      "agent distribution for this input [2.4261300e-07 9.3978703e-02 9.0601653e-01 4.5282163e-06]\n",
      "\t->agent will choose tower 4 (bottom right quadrant)\n"
     ]
    }
   ],
   "source": [
    "# by seeding everything, we can be sure to examine the same state each time\n",
    "seed = 0\n",
    "np.random.seed(seed)\n",
    "torch.manual_seed(seed)\n",
    "obs = env.reset()\n",
    "\n",
    "print('ENVIRONMENT STATS')\n",
    "print('agent: health {:.2f}'.format(obs[0,5,5]))\n",
    "print(\"tower 1: health {:.2f}, type: small, enemy\".format(obs[0,1,8]))\n",
    "print(\"tower 2: health {:.2f}, type: large, enemy\".format(obs[0,4,0]))\n",
    "print(\"tower 3: health {:.2f}, type: small, friend (negative health because it is a friend)\".format(obs[0,7,4]))\n",
    "print(\"tower 4: health {:.2f}, type: small, friend (negative health because it is a friend)\".format(obs[0,9,7]))\n",
    "\n",
    "labels = ['tower 2', 'tower 3', 'tower 4', 'tower 1']\n",
    "for a in range(4):\n",
    "    print('\\treward for choosing ', labels[a], env.step(a)[1])\n",
    "    \n",
    "print('agent distribution for this input', model(state_to_torch(obs))[1].data.numpy().ravel())\n",
    "print('\\t->agent will choose tower 4 (bottom right quadrant)')"
   ]
  },
  {
   "cell_type": "markdown",
   "metadata": {},
   "source": [
    "## Run the perturbation and visualize"
   ]
  },
  {
   "cell_type": "code",
   "execution_count": 8,
   "metadata": {},
   "outputs": [
    {
     "data": {
      "image/png": "[encoded data removed]",
      "text/plain": [
       "<matplotlib.figure.Figure at 0x11b95a748>"
      ]
     },
     "metadata": {},
     "output_type": "display_data"
    }
   ],
   "source": [
    "saliency = score_frame(model=model, state=obs, r=1, d=1, interp_func=occlude, mode='actor', normalize=False)\n",
    "\n",
    "s=3\n",
    "f = plt.figure(figsize=[6*s,2*s])\n",
    "for i in range(12):\n",
    "    plt.subplot(2,6,1+i)\n",
    "    if i <= 5:\n",
    "        plt.title(env.labels[i])\n",
    "        plt.imshow(obs[i], cmap='gray')\n",
    "    else:\n",
    "        ix = i-6\n",
    "        plt.title(env.labels[ix] + ' saliency')\n",
    "        plt.imshow(saliency[:,:,ix], cmap='gray')\n",
    "        plt.clim(0,400)\n",
    "plt.show()"
   ]
  },
  {
   "cell_type": "markdown",
   "metadata": {},
   "source": [
    "## Comments\n",
    "     \n",
    "Let's go channel-by-channel:\n",
    " * **health channel.** In the health channel, the agent's own health appears to be particularly salient. The health values of hte other towers should be important too...so I'm surorused that they are not lit up.\n",
    " * **agent channel.** This is a little surprising. Since the agent's location does not affect the reward, this should not matter. However, while training, the agent only _ever_ received an input that looked like the one shown here. Since it has never seen anything else, we can't blame the policy distribution for being sensitive to this change. If we were to train an agent with noise added to this input channel, we might expect to see this channel have near-zero saliency relative to the other channels.\n",
    " * **small tower channel.** The agent is attending mostly to tower 4 which is a small friend tower with low health. Since the two enemy towers have healths that are greater than the agent, they will defeat the agent and give it a reward of -3. Thus the agent decides to attack a friend tower, and chooses the friend tower with the lowest-magnitude health: tower 4. This is the optimal choice.\n",
    " * **large tower channel.** There is one large enemy tower. It is salient, as would be expected. This is not particularly interesting.\n",
    " * **friend and enemy channels.** I will cover both of these at once because they are redundant. It is unclear what is happening here, but I suspect that the agent simply does not need these channels. If we did not use a signed value for health, then the agent would learn to use these channels. I hypothesize that a similar thing to what is happening in the agent channel is happening here. If we added noise to these channels, I'd expect the saliency to disappear. The fact that these regions are showing up as \"salient\" in the first place suggests that 1) the model is not fully converged or does not have a correct understanding of these channels 2) our saliency metric is flawed. Strange."
   ]
  },
  {
   "cell_type": "code",
   "execution_count": null,
   "metadata": {
    "collapsed": true
   },
   "outputs": [],
   "source": []
  }
 ],
 "metadata": {
  "kernelspec": {
   "display_name": "Python 3",
   "language": "python",
   "name": "python3"
  },
  "language_info": {
   "codemirror_mode": {
    "name": "ipython",
    "version": 3
   },
   "file_extension": ".py",
   "mimetype": "text/x-python",
   "name": "python",
   "nbconvert_exporter": "python",
   "pygments_lexer": "ipython3",
   "version": "3.6.1"
  }
 },
 "nbformat": 4,
 "nbformat_minor": 2
}
